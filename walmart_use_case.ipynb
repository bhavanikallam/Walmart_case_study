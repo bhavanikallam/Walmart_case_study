{
  "nbformat": 4,
  "nbformat_minor": 0,
  "metadata": {
    "colab": {
      "provenance": []
    },
    "kernelspec": {
      "name": "python3",
      "display_name": "Python 3"
    },
    "language_info": {
      "name": "python"
    }
  },
  "cells": [
    {
      "cell_type": "markdown",
      "source": [
        "Walmart seeks to gain insight into customer purchase behavior, specifically examining whether there is a variance in spending between male and female customers during the annual Black Friday event. With a customer base comprising 50 million males and 50 million females, the management team aims to understand if gender plays a significant role in determining purchase amounts on this key shopping occasion. By explaining any potential discrepancies in spending habits between genders, Walmart aims to optimize its marketing strategies and resource allocation to better meet customer needs and enhance overall business performance."
      ],
      "metadata": {
        "id": "W_a_gwKe1_Gh"
      }
    },
    {
      "cell_type": "code",
      "execution_count": null,
      "metadata": {
        "id": "DPJbS645C6Wm"
      },
      "outputs": [],
      "source": [
        "import pandas as pd\n",
        "import numpy as np\n",
        "import matplotlib.pyplot as plt\n",
        "import seaborn as sns\n",
        "from scipy import stats"
      ]
    },
    {
      "cell_type": "code",
      "source": [
        "customers = pd.read_csv(\"/content/walmart_data.csv\")\n",
        "customers.head()"
      ],
      "metadata": {
        "colab": {
          "base_uri": "https://localhost:8080/",
          "height": 206
        },
        "id": "bXeGw30CDS4-",
        "outputId": "c2594c01-bf26-4c44-a613-d2e31ade3f15"
      },
      "execution_count": null,
      "outputs": [
        {
          "output_type": "execute_result",
          "data": {
            "text/plain": [
              "   User_ID Product_ID Gender   Age  Occupation City_Category  \\\n",
              "0  1000001  P00069042      F  0-17          10             A   \n",
              "1  1000001  P00248942      F  0-17          10             A   \n",
              "2  1000001  P00087842      F  0-17          10             A   \n",
              "3  1000001  P00085442      F  0-17          10             A   \n",
              "4  1000002  P00285442      M   55+          16             C   \n",
              "\n",
              "  Stay_In_Current_City_Years  Marital_Status  Product_Category  Purchase  \n",
              "0                          2               0                 3      8370  \n",
              "1                          2               0                 1     15200  \n",
              "2                          2               0                12      1422  \n",
              "3                          2               0                12      1057  \n",
              "4                         4+               0                 8      7969  "
            ],
            "text/html": [
              "\n",
              "  <div id=\"df-fd12eef9-5420-4514-8215-9c8ea334c232\" class=\"colab-df-container\">\n",
              "    <div>\n",
              "<style scoped>\n",
              "    .dataframe tbody tr th:only-of-type {\n",
              "        vertical-align: middle;\n",
              "    }\n",
              "\n",
              "    .dataframe tbody tr th {\n",
              "        vertical-align: top;\n",
              "    }\n",
              "\n",
              "    .dataframe thead th {\n",
              "        text-align: right;\n",
              "    }\n",
              "</style>\n",
              "<table border=\"1\" class=\"dataframe\">\n",
              "  <thead>\n",
              "    <tr style=\"text-align: right;\">\n",
              "      <th></th>\n",
              "      <th>User_ID</th>\n",
              "      <th>Product_ID</th>\n",
              "      <th>Gender</th>\n",
              "      <th>Age</th>\n",
              "      <th>Occupation</th>\n",
              "      <th>City_Category</th>\n",
              "      <th>Stay_In_Current_City_Years</th>\n",
              "      <th>Marital_Status</th>\n",
              "      <th>Product_Category</th>\n",
              "      <th>Purchase</th>\n",
              "    </tr>\n",
              "  </thead>\n",
              "  <tbody>\n",
              "    <tr>\n",
              "      <th>0</th>\n",
              "      <td>1000001</td>\n",
              "      <td>P00069042</td>\n",
              "      <td>F</td>\n",
              "      <td>0-17</td>\n",
              "      <td>10</td>\n",
              "      <td>A</td>\n",
              "      <td>2</td>\n",
              "      <td>0</td>\n",
              "      <td>3</td>\n",
              "      <td>8370</td>\n",
              "    </tr>\n",
              "    <tr>\n",
              "      <th>1</th>\n",
              "      <td>1000001</td>\n",
              "      <td>P00248942</td>\n",
              "      <td>F</td>\n",
              "      <td>0-17</td>\n",
              "      <td>10</td>\n",
              "      <td>A</td>\n",
              "      <td>2</td>\n",
              "      <td>0</td>\n",
              "      <td>1</td>\n",
              "      <td>15200</td>\n",
              "    </tr>\n",
              "    <tr>\n",
              "      <th>2</th>\n",
              "      <td>1000001</td>\n",
              "      <td>P00087842</td>\n",
              "      <td>F</td>\n",
              "      <td>0-17</td>\n",
              "      <td>10</td>\n",
              "      <td>A</td>\n",
              "      <td>2</td>\n",
              "      <td>0</td>\n",
              "      <td>12</td>\n",
              "      <td>1422</td>\n",
              "    </tr>\n",
              "    <tr>\n",
              "      <th>3</th>\n",
              "      <td>1000001</td>\n",
              "      <td>P00085442</td>\n",
              "      <td>F</td>\n",
              "      <td>0-17</td>\n",
              "      <td>10</td>\n",
              "      <td>A</td>\n",
              "      <td>2</td>\n",
              "      <td>0</td>\n",
              "      <td>12</td>\n",
              "      <td>1057</td>\n",
              "    </tr>\n",
              "    <tr>\n",
              "      <th>4</th>\n",
              "      <td>1000002</td>\n",
              "      <td>P00285442</td>\n",
              "      <td>M</td>\n",
              "      <td>55+</td>\n",
              "      <td>16</td>\n",
              "      <td>C</td>\n",
              "      <td>4+</td>\n",
              "      <td>0</td>\n",
              "      <td>8</td>\n",
              "      <td>7969</td>\n",
              "    </tr>\n",
              "  </tbody>\n",
              "</table>\n",
              "</div>\n",
              "    <div class=\"colab-df-buttons\">\n",
              "\n",
              "  <div class=\"colab-df-container\">\n",
              "    <button class=\"colab-df-convert\" onclick=\"convertToInteractive('df-fd12eef9-5420-4514-8215-9c8ea334c232')\"\n",
              "            title=\"Convert this dataframe to an interactive table.\"\n",
              "            style=\"display:none;\">\n",
              "\n",
              "  <svg xmlns=\"http://www.w3.org/2000/svg\" height=\"24px\" viewBox=\"0 -960 960 960\">\n",
              "    <path d=\"M120-120v-720h720v720H120Zm60-500h600v-160H180v160Zm220 220h160v-160H400v160Zm0 220h160v-160H400v160ZM180-400h160v-160H180v160Zm440 0h160v-160H620v160ZM180-180h160v-160H180v160Zm440 0h160v-160H620v160Z\"/>\n",
              "  </svg>\n",
              "    </button>\n",
              "\n",
              "  <style>\n",
              "    .colab-df-container {\n",
              "      display:flex;\n",
              "      gap: 12px;\n",
              "    }\n",
              "\n",
              "    .colab-df-convert {\n",
              "      background-color: #E8F0FE;\n",
              "      border: none;\n",
              "      border-radius: 50%;\n",
              "      cursor: pointer;\n",
              "      display: none;\n",
              "      fill: #1967D2;\n",
              "      height: 32px;\n",
              "      padding: 0 0 0 0;\n",
              "      width: 32px;\n",
              "    }\n",
              "\n",
              "    .colab-df-convert:hover {\n",
              "      background-color: #E2EBFA;\n",
              "      box-shadow: 0px 1px 2px rgba(60, 64, 67, 0.3), 0px 1px 3px 1px rgba(60, 64, 67, 0.15);\n",
              "      fill: #174EA6;\n",
              "    }\n",
              "\n",
              "    .colab-df-buttons div {\n",
              "      margin-bottom: 4px;\n",
              "    }\n",
              "\n",
              "    [theme=dark] .colab-df-convert {\n",
              "      background-color: #3B4455;\n",
              "      fill: #D2E3FC;\n",
              "    }\n",
              "\n",
              "    [theme=dark] .colab-df-convert:hover {\n",
              "      background-color: #434B5C;\n",
              "      box-shadow: 0px 1px 3px 1px rgba(0, 0, 0, 0.15);\n",
              "      filter: drop-shadow(0px 1px 2px rgba(0, 0, 0, 0.3));\n",
              "      fill: #FFFFFF;\n",
              "    }\n",
              "  </style>\n",
              "\n",
              "    <script>\n",
              "      const buttonEl =\n",
              "        document.querySelector('#df-fd12eef9-5420-4514-8215-9c8ea334c232 button.colab-df-convert');\n",
              "      buttonEl.style.display =\n",
              "        google.colab.kernel.accessAllowed ? 'block' : 'none';\n",
              "\n",
              "      async function convertToInteractive(key) {\n",
              "        const element = document.querySelector('#df-fd12eef9-5420-4514-8215-9c8ea334c232');\n",
              "        const dataTable =\n",
              "          await google.colab.kernel.invokeFunction('convertToInteractive',\n",
              "                                                    [key], {});\n",
              "        if (!dataTable) return;\n",
              "\n",
              "        const docLinkHtml = 'Like what you see? Visit the ' +\n",
              "          '<a target=\"_blank\" href=https://colab.research.google.com/notebooks/data_table.ipynb>data table notebook</a>'\n",
              "          + ' to learn more about interactive tables.';\n",
              "        element.innerHTML = '';\n",
              "        dataTable['output_type'] = 'display_data';\n",
              "        await google.colab.output.renderOutput(dataTable, element);\n",
              "        const docLink = document.createElement('div');\n",
              "        docLink.innerHTML = docLinkHtml;\n",
              "        element.appendChild(docLink);\n",
              "      }\n",
              "    </script>\n",
              "  </div>\n",
              "\n",
              "\n",
              "<div id=\"df-afc06e5a-68d4-4eee-9c66-3b34bed22030\">\n",
              "  <button class=\"colab-df-quickchart\" onclick=\"quickchart('df-afc06e5a-68d4-4eee-9c66-3b34bed22030')\"\n",
              "            title=\"Suggest charts\"\n",
              "            style=\"display:none;\">\n",
              "\n",
              "<svg xmlns=\"http://www.w3.org/2000/svg\" height=\"24px\"viewBox=\"0 0 24 24\"\n",
              "     width=\"24px\">\n",
              "    <g>\n",
              "        <path d=\"M19 3H5c-1.1 0-2 .9-2 2v14c0 1.1.9 2 2 2h14c1.1 0 2-.9 2-2V5c0-1.1-.9-2-2-2zM9 17H7v-7h2v7zm4 0h-2V7h2v10zm4 0h-2v-4h2v4z\"/>\n",
              "    </g>\n",
              "</svg>\n",
              "  </button>\n",
              "\n",
              "<style>\n",
              "  .colab-df-quickchart {\n",
              "      --bg-color: #E8F0FE;\n",
              "      --fill-color: #1967D2;\n",
              "      --hover-bg-color: #E2EBFA;\n",
              "      --hover-fill-color: #174EA6;\n",
              "      --disabled-fill-color: #AAA;\n",
              "      --disabled-bg-color: #DDD;\n",
              "  }\n",
              "\n",
              "  [theme=dark] .colab-df-quickchart {\n",
              "      --bg-color: #3B4455;\n",
              "      --fill-color: #D2E3FC;\n",
              "      --hover-bg-color: #434B5C;\n",
              "      --hover-fill-color: #FFFFFF;\n",
              "      --disabled-bg-color: #3B4455;\n",
              "      --disabled-fill-color: #666;\n",
              "  }\n",
              "\n",
              "  .colab-df-quickchart {\n",
              "    background-color: var(--bg-color);\n",
              "    border: none;\n",
              "    border-radius: 50%;\n",
              "    cursor: pointer;\n",
              "    display: none;\n",
              "    fill: var(--fill-color);\n",
              "    height: 32px;\n",
              "    padding: 0;\n",
              "    width: 32px;\n",
              "  }\n",
              "\n",
              "  .colab-df-quickchart:hover {\n",
              "    background-color: var(--hover-bg-color);\n",
              "    box-shadow: 0 1px 2px rgba(60, 64, 67, 0.3), 0 1px 3px 1px rgba(60, 64, 67, 0.15);\n",
              "    fill: var(--button-hover-fill-color);\n",
              "  }\n",
              "\n",
              "  .colab-df-quickchart-complete:disabled,\n",
              "  .colab-df-quickchart-complete:disabled:hover {\n",
              "    background-color: var(--disabled-bg-color);\n",
              "    fill: var(--disabled-fill-color);\n",
              "    box-shadow: none;\n",
              "  }\n",
              "\n",
              "  .colab-df-spinner {\n",
              "    border: 2px solid var(--fill-color);\n",
              "    border-color: transparent;\n",
              "    border-bottom-color: var(--fill-color);\n",
              "    animation:\n",
              "      spin 1s steps(1) infinite;\n",
              "  }\n",
              "\n",
              "  @keyframes spin {\n",
              "    0% {\n",
              "      border-color: transparent;\n",
              "      border-bottom-color: var(--fill-color);\n",
              "      border-left-color: var(--fill-color);\n",
              "    }\n",
              "    20% {\n",
              "      border-color: transparent;\n",
              "      border-left-color: var(--fill-color);\n",
              "      border-top-color: var(--fill-color);\n",
              "    }\n",
              "    30% {\n",
              "      border-color: transparent;\n",
              "      border-left-color: var(--fill-color);\n",
              "      border-top-color: var(--fill-color);\n",
              "      border-right-color: var(--fill-color);\n",
              "    }\n",
              "    40% {\n",
              "      border-color: transparent;\n",
              "      border-right-color: var(--fill-color);\n",
              "      border-top-color: var(--fill-color);\n",
              "    }\n",
              "    60% {\n",
              "      border-color: transparent;\n",
              "      border-right-color: var(--fill-color);\n",
              "    }\n",
              "    80% {\n",
              "      border-color: transparent;\n",
              "      border-right-color: var(--fill-color);\n",
              "      border-bottom-color: var(--fill-color);\n",
              "    }\n",
              "    90% {\n",
              "      border-color: transparent;\n",
              "      border-bottom-color: var(--fill-color);\n",
              "    }\n",
              "  }\n",
              "</style>\n",
              "\n",
              "  <script>\n",
              "    async function quickchart(key) {\n",
              "      const quickchartButtonEl =\n",
              "        document.querySelector('#' + key + ' button');\n",
              "      quickchartButtonEl.disabled = true;  // To prevent multiple clicks.\n",
              "      quickchartButtonEl.classList.add('colab-df-spinner');\n",
              "      try {\n",
              "        const charts = await google.colab.kernel.invokeFunction(\n",
              "            'suggestCharts', [key], {});\n",
              "      } catch (error) {\n",
              "        console.error('Error during call to suggestCharts:', error);\n",
              "      }\n",
              "      quickchartButtonEl.classList.remove('colab-df-spinner');\n",
              "      quickchartButtonEl.classList.add('colab-df-quickchart-complete');\n",
              "    }\n",
              "    (() => {\n",
              "      let quickchartButtonEl =\n",
              "        document.querySelector('#df-afc06e5a-68d4-4eee-9c66-3b34bed22030 button');\n",
              "      quickchartButtonEl.style.display =\n",
              "        google.colab.kernel.accessAllowed ? 'block' : 'none';\n",
              "    })();\n",
              "  </script>\n",
              "</div>\n",
              "\n",
              "    </div>\n",
              "  </div>\n"
            ],
            "application/vnd.google.colaboratory.intrinsic+json": {
              "type": "dataframe",
              "variable_name": "customers"
            }
          },
          "metadata": {},
          "execution_count": 44
        }
      ]
    },
    {
      "cell_type": "markdown",
      "source": [
        "# 1. Import the dataset and do usual data analysis steps like checking the structure & characteristics of the dataset"
      ],
      "metadata": {
        "id": "OCTj_jBdFLpx"
      }
    },
    {
      "cell_type": "markdown",
      "source": [
        "1. Observations on shape of data, data types of all the attributes, conversion of categorical attributes to 'category' (If required), statistical summary"
      ],
      "metadata": {
        "id": "zit8CxH6FduX"
      }
    },
    {
      "cell_type": "code",
      "source": [
        "print(\"Data Types of Each Column:\")\n",
        "print(customers.dtypes)"
      ],
      "metadata": {
        "colab": {
          "base_uri": "https://localhost:8080/"
        },
        "id": "oga5JnZsEOSj",
        "outputId": "be204a66-a7e3-42fc-dbd5-db02efbeb541"
      },
      "execution_count": null,
      "outputs": [
        {
          "output_type": "stream",
          "name": "stdout",
          "text": [
            "Data Types of Each Column:\n",
            "User_ID                        int64\n",
            "Product_ID                    object\n",
            "Gender                        object\n",
            "Age                           object\n",
            "Occupation                     int64\n",
            "City_Category                 object\n",
            "Stay_In_Current_City_Years    object\n",
            "Marital_Status                 int64\n",
            "Product_Category               int64\n",
            "Purchase                       int64\n",
            "dtype: object\n"
          ]
        }
      ]
    },
    {
      "cell_type": "code",
      "source": [
        "num_rows, num_cols = customers.shape\n",
        "print(\"\\nNumber of Rows:\", num_rows)\n",
        "print(\"Number of Columns:\", num_cols)"
      ],
      "metadata": {
        "colab": {
          "base_uri": "https://localhost:8080/"
        },
        "id": "rX2dLkA_FwqT",
        "outputId": "9955877a-f37c-4a3a-e372-f791f195b07e"
      },
      "execution_count": null,
      "outputs": [
        {
          "output_type": "stream",
          "name": "stdout",
          "text": [
            "\n",
            "Number of Rows: 75133\n",
            "Number of Columns: 10\n"
          ]
        }
      ]
    },
    {
      "cell_type": "code",
      "source": [
        "missing_values = customers.isnull().sum()\n",
        "print(\"\\nMissing Values in Each Column:\")\n",
        "print(missing_values)"
      ],
      "metadata": {
        "colab": {
          "base_uri": "https://localhost:8080/"
        },
        "id": "V9XHThk5Fy_b",
        "outputId": "e53b5cdb-a616-40d5-e27a-0493e571cefe"
      },
      "execution_count": null,
      "outputs": [
        {
          "output_type": "stream",
          "name": "stdout",
          "text": [
            "\n",
            "Missing Values in Each Column:\n",
            "User_ID                       0\n",
            "Product_ID                    0\n",
            "Gender                        1\n",
            "Age                           1\n",
            "Occupation                    1\n",
            "City_Category                 1\n",
            "Stay_In_Current_City_Years    1\n",
            "Marital_Status                1\n",
            "Product_Category              1\n",
            "Purchase                      1\n",
            "dtype: int64\n"
          ]
        }
      ]
    },
    {
      "cell_type": "code",
      "source": [
        "customers.describe(include=\"all\")"
      ],
      "metadata": {
        "colab": {
          "base_uri": "https://localhost:8080/",
          "height": 394
        },
        "id": "5BuzGVscF3qy",
        "outputId": "f3e6eee4-32cf-4ca7-fda3-5d836c450cc8"
      },
      "execution_count": null,
      "outputs": [
        {
          "output_type": "execute_result",
          "data": {
            "text/plain": [
              "             User_ID Product_ID Gender    Age    Occupation City_Category  \\\n",
              "count   7.513300e+04      75133  75132  75132  75132.000000         75132   \n",
              "unique           NaN       3229      2      7           NaN             3   \n",
              "top              NaN  P00112142      M  26-35           NaN             B   \n",
              "freq             NaN        237  56979  29694           NaN         31926   \n",
              "mean    1.002905e+06        NaN    NaN    NaN      8.102500           NaN   \n",
              "std     1.671908e+03        NaN    NaN    NaN      6.514722           NaN   \n",
              "min     1.000001e+06        NaN    NaN    NaN      0.000000           NaN   \n",
              "25%     1.001447e+06        NaN    NaN    NaN      2.000000           NaN   \n",
              "50%     1.002946e+06        NaN    NaN    NaN      7.000000           NaN   \n",
              "75%     1.004310e+06        NaN    NaN    NaN     14.000000           NaN   \n",
              "max     1.006040e+06        NaN    NaN    NaN     20.000000           NaN   \n",
              "\n",
              "       Stay_In_Current_City_Years  Marital_Status  Product_Category  \\\n",
              "count                       75132    75132.000000      75132.000000   \n",
              "unique                          5             NaN               NaN   \n",
              "top                             1             NaN               NaN   \n",
              "freq                        26365             NaN               NaN   \n",
              "mean                          NaN        0.406937          5.302228   \n",
              "std                           NaN        0.491266          3.728501   \n",
              "min                           NaN        0.000000          1.000000   \n",
              "25%                           NaN        0.000000          1.000000   \n",
              "50%                           NaN        0.000000          5.000000   \n",
              "75%                           NaN        1.000000          8.000000   \n",
              "max                           NaN        1.000000         18.000000   \n",
              "\n",
              "            Purchase  \n",
              "count   75132.000000  \n",
              "unique           NaN  \n",
              "top              NaN  \n",
              "freq             NaN  \n",
              "mean     9298.807619  \n",
              "std      4965.135617  \n",
              "min       185.000000  \n",
              "25%      5863.000000  \n",
              "50%      8051.000000  \n",
              "75%     12043.000000  \n",
              "max     23958.000000  "
            ],
            "text/html": [
              "\n",
              "  <div id=\"df-2ff777be-1f09-4849-9cf7-b9d5491b23c8\" class=\"colab-df-container\">\n",
              "    <div>\n",
              "<style scoped>\n",
              "    .dataframe tbody tr th:only-of-type {\n",
              "        vertical-align: middle;\n",
              "    }\n",
              "\n",
              "    .dataframe tbody tr th {\n",
              "        vertical-align: top;\n",
              "    }\n",
              "\n",
              "    .dataframe thead th {\n",
              "        text-align: right;\n",
              "    }\n",
              "</style>\n",
              "<table border=\"1\" class=\"dataframe\">\n",
              "  <thead>\n",
              "    <tr style=\"text-align: right;\">\n",
              "      <th></th>\n",
              "      <th>User_ID</th>\n",
              "      <th>Product_ID</th>\n",
              "      <th>Gender</th>\n",
              "      <th>Age</th>\n",
              "      <th>Occupation</th>\n",
              "      <th>City_Category</th>\n",
              "      <th>Stay_In_Current_City_Years</th>\n",
              "      <th>Marital_Status</th>\n",
              "      <th>Product_Category</th>\n",
              "      <th>Purchase</th>\n",
              "    </tr>\n",
              "  </thead>\n",
              "  <tbody>\n",
              "    <tr>\n",
              "      <th>count</th>\n",
              "      <td>7.513300e+04</td>\n",
              "      <td>75133</td>\n",
              "      <td>75132</td>\n",
              "      <td>75132</td>\n",
              "      <td>75132.000000</td>\n",
              "      <td>75132</td>\n",
              "      <td>75132</td>\n",
              "      <td>75132.000000</td>\n",
              "      <td>75132.000000</td>\n",
              "      <td>75132.000000</td>\n",
              "    </tr>\n",
              "    <tr>\n",
              "      <th>unique</th>\n",
              "      <td>NaN</td>\n",
              "      <td>3229</td>\n",
              "      <td>2</td>\n",
              "      <td>7</td>\n",
              "      <td>NaN</td>\n",
              "      <td>3</td>\n",
              "      <td>5</td>\n",
              "      <td>NaN</td>\n",
              "      <td>NaN</td>\n",
              "      <td>NaN</td>\n",
              "    </tr>\n",
              "    <tr>\n",
              "      <th>top</th>\n",
              "      <td>NaN</td>\n",
              "      <td>P00112142</td>\n",
              "      <td>M</td>\n",
              "      <td>26-35</td>\n",
              "      <td>NaN</td>\n",
              "      <td>B</td>\n",
              "      <td>1</td>\n",
              "      <td>NaN</td>\n",
              "      <td>NaN</td>\n",
              "      <td>NaN</td>\n",
              "    </tr>\n",
              "    <tr>\n",
              "      <th>freq</th>\n",
              "      <td>NaN</td>\n",
              "      <td>237</td>\n",
              "      <td>56979</td>\n",
              "      <td>29694</td>\n",
              "      <td>NaN</td>\n",
              "      <td>31926</td>\n",
              "      <td>26365</td>\n",
              "      <td>NaN</td>\n",
              "      <td>NaN</td>\n",
              "      <td>NaN</td>\n",
              "    </tr>\n",
              "    <tr>\n",
              "      <th>mean</th>\n",
              "      <td>1.002905e+06</td>\n",
              "      <td>NaN</td>\n",
              "      <td>NaN</td>\n",
              "      <td>NaN</td>\n",
              "      <td>8.102500</td>\n",
              "      <td>NaN</td>\n",
              "      <td>NaN</td>\n",
              "      <td>0.406937</td>\n",
              "      <td>5.302228</td>\n",
              "      <td>9298.807619</td>\n",
              "    </tr>\n",
              "    <tr>\n",
              "      <th>std</th>\n",
              "      <td>1.671908e+03</td>\n",
              "      <td>NaN</td>\n",
              "      <td>NaN</td>\n",
              "      <td>NaN</td>\n",
              "      <td>6.514722</td>\n",
              "      <td>NaN</td>\n",
              "      <td>NaN</td>\n",
              "      <td>0.491266</td>\n",
              "      <td>3.728501</td>\n",
              "      <td>4965.135617</td>\n",
              "    </tr>\n",
              "    <tr>\n",
              "      <th>min</th>\n",
              "      <td>1.000001e+06</td>\n",
              "      <td>NaN</td>\n",
              "      <td>NaN</td>\n",
              "      <td>NaN</td>\n",
              "      <td>0.000000</td>\n",
              "      <td>NaN</td>\n",
              "      <td>NaN</td>\n",
              "      <td>0.000000</td>\n",
              "      <td>1.000000</td>\n",
              "      <td>185.000000</td>\n",
              "    </tr>\n",
              "    <tr>\n",
              "      <th>25%</th>\n",
              "      <td>1.001447e+06</td>\n",
              "      <td>NaN</td>\n",
              "      <td>NaN</td>\n",
              "      <td>NaN</td>\n",
              "      <td>2.000000</td>\n",
              "      <td>NaN</td>\n",
              "      <td>NaN</td>\n",
              "      <td>0.000000</td>\n",
              "      <td>1.000000</td>\n",
              "      <td>5863.000000</td>\n",
              "    </tr>\n",
              "    <tr>\n",
              "      <th>50%</th>\n",
              "      <td>1.002946e+06</td>\n",
              "      <td>NaN</td>\n",
              "      <td>NaN</td>\n",
              "      <td>NaN</td>\n",
              "      <td>7.000000</td>\n",
              "      <td>NaN</td>\n",
              "      <td>NaN</td>\n",
              "      <td>0.000000</td>\n",
              "      <td>5.000000</td>\n",
              "      <td>8051.000000</td>\n",
              "    </tr>\n",
              "    <tr>\n",
              "      <th>75%</th>\n",
              "      <td>1.004310e+06</td>\n",
              "      <td>NaN</td>\n",
              "      <td>NaN</td>\n",
              "      <td>NaN</td>\n",
              "      <td>14.000000</td>\n",
              "      <td>NaN</td>\n",
              "      <td>NaN</td>\n",
              "      <td>1.000000</td>\n",
              "      <td>8.000000</td>\n",
              "      <td>12043.000000</td>\n",
              "    </tr>\n",
              "    <tr>\n",
              "      <th>max</th>\n",
              "      <td>1.006040e+06</td>\n",
              "      <td>NaN</td>\n",
              "      <td>NaN</td>\n",
              "      <td>NaN</td>\n",
              "      <td>20.000000</td>\n",
              "      <td>NaN</td>\n",
              "      <td>NaN</td>\n",
              "      <td>1.000000</td>\n",
              "      <td>18.000000</td>\n",
              "      <td>23958.000000</td>\n",
              "    </tr>\n",
              "  </tbody>\n",
              "</table>\n",
              "</div>\n",
              "    <div class=\"colab-df-buttons\">\n",
              "\n",
              "  <div class=\"colab-df-container\">\n",
              "    <button class=\"colab-df-convert\" onclick=\"convertToInteractive('df-2ff777be-1f09-4849-9cf7-b9d5491b23c8')\"\n",
              "            title=\"Convert this dataframe to an interactive table.\"\n",
              "            style=\"display:none;\">\n",
              "\n",
              "  <svg xmlns=\"http://www.w3.org/2000/svg\" height=\"24px\" viewBox=\"0 -960 960 960\">\n",
              "    <path d=\"M120-120v-720h720v720H120Zm60-500h600v-160H180v160Zm220 220h160v-160H400v160Zm0 220h160v-160H400v160ZM180-400h160v-160H180v160Zm440 0h160v-160H620v160ZM180-180h160v-160H180v160Zm440 0h160v-160H620v160Z\"/>\n",
              "  </svg>\n",
              "    </button>\n",
              "\n",
              "  <style>\n",
              "    .colab-df-container {\n",
              "      display:flex;\n",
              "      gap: 12px;\n",
              "    }\n",
              "\n",
              "    .colab-df-convert {\n",
              "      background-color: #E8F0FE;\n",
              "      border: none;\n",
              "      border-radius: 50%;\n",
              "      cursor: pointer;\n",
              "      display: none;\n",
              "      fill: #1967D2;\n",
              "      height: 32px;\n",
              "      padding: 0 0 0 0;\n",
              "      width: 32px;\n",
              "    }\n",
              "\n",
              "    .colab-df-convert:hover {\n",
              "      background-color: #E2EBFA;\n",
              "      box-shadow: 0px 1px 2px rgba(60, 64, 67, 0.3), 0px 1px 3px 1px rgba(60, 64, 67, 0.15);\n",
              "      fill: #174EA6;\n",
              "    }\n",
              "\n",
              "    .colab-df-buttons div {\n",
              "      margin-bottom: 4px;\n",
              "    }\n",
              "\n",
              "    [theme=dark] .colab-df-convert {\n",
              "      background-color: #3B4455;\n",
              "      fill: #D2E3FC;\n",
              "    }\n",
              "\n",
              "    [theme=dark] .colab-df-convert:hover {\n",
              "      background-color: #434B5C;\n",
              "      box-shadow: 0px 1px 3px 1px rgba(0, 0, 0, 0.15);\n",
              "      filter: drop-shadow(0px 1px 2px rgba(0, 0, 0, 0.3));\n",
              "      fill: #FFFFFF;\n",
              "    }\n",
              "  </style>\n",
              "\n",
              "    <script>\n",
              "      const buttonEl =\n",
              "        document.querySelector('#df-2ff777be-1f09-4849-9cf7-b9d5491b23c8 button.colab-df-convert');\n",
              "      buttonEl.style.display =\n",
              "        google.colab.kernel.accessAllowed ? 'block' : 'none';\n",
              "\n",
              "      async function convertToInteractive(key) {\n",
              "        const element = document.querySelector('#df-2ff777be-1f09-4849-9cf7-b9d5491b23c8');\n",
              "        const dataTable =\n",
              "          await google.colab.kernel.invokeFunction('convertToInteractive',\n",
              "                                                    [key], {});\n",
              "        if (!dataTable) return;\n",
              "\n",
              "        const docLinkHtml = 'Like what you see? Visit the ' +\n",
              "          '<a target=\"_blank\" href=https://colab.research.google.com/notebooks/data_table.ipynb>data table notebook</a>'\n",
              "          + ' to learn more about interactive tables.';\n",
              "        element.innerHTML = '';\n",
              "        dataTable['output_type'] = 'display_data';\n",
              "        await google.colab.output.renderOutput(dataTable, element);\n",
              "        const docLink = document.createElement('div');\n",
              "        docLink.innerHTML = docLinkHtml;\n",
              "        element.appendChild(docLink);\n",
              "      }\n",
              "    </script>\n",
              "  </div>\n",
              "\n",
              "\n",
              "<div id=\"df-ae2576a6-6f1d-4193-b368-9bcfd63415a0\">\n",
              "  <button class=\"colab-df-quickchart\" onclick=\"quickchart('df-ae2576a6-6f1d-4193-b368-9bcfd63415a0')\"\n",
              "            title=\"Suggest charts\"\n",
              "            style=\"display:none;\">\n",
              "\n",
              "<svg xmlns=\"http://www.w3.org/2000/svg\" height=\"24px\"viewBox=\"0 0 24 24\"\n",
              "     width=\"24px\">\n",
              "    <g>\n",
              "        <path d=\"M19 3H5c-1.1 0-2 .9-2 2v14c0 1.1.9 2 2 2h14c1.1 0 2-.9 2-2V5c0-1.1-.9-2-2-2zM9 17H7v-7h2v7zm4 0h-2V7h2v10zm4 0h-2v-4h2v4z\"/>\n",
              "    </g>\n",
              "</svg>\n",
              "  </button>\n",
              "\n",
              "<style>\n",
              "  .colab-df-quickchart {\n",
              "      --bg-color: #E8F0FE;\n",
              "      --fill-color: #1967D2;\n",
              "      --hover-bg-color: #E2EBFA;\n",
              "      --hover-fill-color: #174EA6;\n",
              "      --disabled-fill-color: #AAA;\n",
              "      --disabled-bg-color: #DDD;\n",
              "  }\n",
              "\n",
              "  [theme=dark] .colab-df-quickchart {\n",
              "      --bg-color: #3B4455;\n",
              "      --fill-color: #D2E3FC;\n",
              "      --hover-bg-color: #434B5C;\n",
              "      --hover-fill-color: #FFFFFF;\n",
              "      --disabled-bg-color: #3B4455;\n",
              "      --disabled-fill-color: #666;\n",
              "  }\n",
              "\n",
              "  .colab-df-quickchart {\n",
              "    background-color: var(--bg-color);\n",
              "    border: none;\n",
              "    border-radius: 50%;\n",
              "    cursor: pointer;\n",
              "    display: none;\n",
              "    fill: var(--fill-color);\n",
              "    height: 32px;\n",
              "    padding: 0;\n",
              "    width: 32px;\n",
              "  }\n",
              "\n",
              "  .colab-df-quickchart:hover {\n",
              "    background-color: var(--hover-bg-color);\n",
              "    box-shadow: 0 1px 2px rgba(60, 64, 67, 0.3), 0 1px 3px 1px rgba(60, 64, 67, 0.15);\n",
              "    fill: var(--button-hover-fill-color);\n",
              "  }\n",
              "\n",
              "  .colab-df-quickchart-complete:disabled,\n",
              "  .colab-df-quickchart-complete:disabled:hover {\n",
              "    background-color: var(--disabled-bg-color);\n",
              "    fill: var(--disabled-fill-color);\n",
              "    box-shadow: none;\n",
              "  }\n",
              "\n",
              "  .colab-df-spinner {\n",
              "    border: 2px solid var(--fill-color);\n",
              "    border-color: transparent;\n",
              "    border-bottom-color: var(--fill-color);\n",
              "    animation:\n",
              "      spin 1s steps(1) infinite;\n",
              "  }\n",
              "\n",
              "  @keyframes spin {\n",
              "    0% {\n",
              "      border-color: transparent;\n",
              "      border-bottom-color: var(--fill-color);\n",
              "      border-left-color: var(--fill-color);\n",
              "    }\n",
              "    20% {\n",
              "      border-color: transparent;\n",
              "      border-left-color: var(--fill-color);\n",
              "      border-top-color: var(--fill-color);\n",
              "    }\n",
              "    30% {\n",
              "      border-color: transparent;\n",
              "      border-left-color: var(--fill-color);\n",
              "      border-top-color: var(--fill-color);\n",
              "      border-right-color: var(--fill-color);\n",
              "    }\n",
              "    40% {\n",
              "      border-color: transparent;\n",
              "      border-right-color: var(--fill-color);\n",
              "      border-top-color: var(--fill-color);\n",
              "    }\n",
              "    60% {\n",
              "      border-color: transparent;\n",
              "      border-right-color: var(--fill-color);\n",
              "    }\n",
              "    80% {\n",
              "      border-color: transparent;\n",
              "      border-right-color: var(--fill-color);\n",
              "      border-bottom-color: var(--fill-color);\n",
              "    }\n",
              "    90% {\n",
              "      border-color: transparent;\n",
              "      border-bottom-color: var(--fill-color);\n",
              "    }\n",
              "  }\n",
              "</style>\n",
              "\n",
              "  <script>\n",
              "    async function quickchart(key) {\n",
              "      const quickchartButtonEl =\n",
              "        document.querySelector('#' + key + ' button');\n",
              "      quickchartButtonEl.disabled = true;  // To prevent multiple clicks.\n",
              "      quickchartButtonEl.classList.add('colab-df-spinner');\n",
              "      try {\n",
              "        const charts = await google.colab.kernel.invokeFunction(\n",
              "            'suggestCharts', [key], {});\n",
              "      } catch (error) {\n",
              "        console.error('Error during call to suggestCharts:', error);\n",
              "      }\n",
              "      quickchartButtonEl.classList.remove('colab-df-spinner');\n",
              "      quickchartButtonEl.classList.add('colab-df-quickchart-complete');\n",
              "    }\n",
              "    (() => {\n",
              "      let quickchartButtonEl =\n",
              "        document.querySelector('#df-ae2576a6-6f1d-4193-b368-9bcfd63415a0 button');\n",
              "      quickchartButtonEl.style.display =\n",
              "        google.colab.kernel.accessAllowed ? 'block' : 'none';\n",
              "    })();\n",
              "  </script>\n",
              "</div>\n",
              "\n",
              "    </div>\n",
              "  </div>\n"
            ],
            "application/vnd.google.colaboratory.intrinsic+json": {
              "type": "dataframe",
              "summary": "{\n  \"name\": \"customers\",\n  \"rows\": 11,\n  \"fields\": [\n    {\n      \"column\": \"User_ID\",\n      \"properties\": {\n        \"dtype\": \"number\",\n        \"std\": 446929.8657750993,\n        \"min\": 1671.908368031479,\n        \"max\": 1006040.0,\n        \"num_unique_values\": 8,\n        \"samples\": [\n          1002905.3259819254,\n          1002946.0,\n          75133.0\n        ],\n        \"semantic_type\": \"\",\n        \"description\": \"\"\n      }\n    },\n    {\n      \"column\": \"Product_ID\",\n      \"properties\": {\n        \"dtype\": \"category\",\n        \"num_unique_values\": 4,\n        \"samples\": [\n          3229,\n          \"237\",\n          \"75133\"\n        ],\n        \"semantic_type\": \"\",\n        \"description\": \"\"\n      }\n    },\n    {\n      \"column\": \"Gender\",\n      \"properties\": {\n        \"dtype\": \"category\",\n        \"num_unique_values\": 4,\n        \"samples\": [\n          2,\n          \"56979\",\n          \"75132\"\n        ],\n        \"semantic_type\": \"\",\n        \"description\": \"\"\n      }\n    },\n    {\n      \"column\": \"Age\",\n      \"properties\": {\n        \"dtype\": \"category\",\n        \"num_unique_values\": 4,\n        \"samples\": [\n          7,\n          \"29694\",\n          \"75132\"\n        ],\n        \"semantic_type\": \"\",\n        \"description\": \"\"\n      }\n    },\n    {\n      \"column\": \"Occupation\",\n      \"properties\": {\n        \"dtype\": \"number\",\n        \"std\": 26560.263993574295,\n        \"min\": 0.0,\n        \"max\": 75132.0,\n        \"num_unique_values\": 8,\n        \"samples\": [\n          8.102499600702764,\n          7.0,\n          75132.0\n        ],\n        \"semantic_type\": \"\",\n        \"description\": \"\"\n      }\n    },\n    {\n      \"column\": \"City_Category\",\n      \"properties\": {\n        \"dtype\": \"category\",\n        \"num_unique_values\": 4,\n        \"samples\": [\n          3,\n          \"31926\",\n          \"75132\"\n        ],\n        \"semantic_type\": \"\",\n        \"description\": \"\"\n      }\n    },\n    {\n      \"column\": \"Stay_In_Current_City_Years\",\n      \"properties\": {\n        \"dtype\": \"category\",\n        \"num_unique_values\": 4,\n        \"samples\": [\n          5,\n          \"26365\",\n          \"75132\"\n        ],\n        \"semantic_type\": \"\",\n        \"description\": \"\"\n      }\n    },\n    {\n      \"column\": \"Marital_Status\",\n      \"properties\": {\n        \"dtype\": \"number\",\n        \"std\": 26563.026963924625,\n        \"min\": 0.0,\n        \"max\": 75132.0,\n        \"num_unique_values\": 5,\n        \"samples\": [\n          0.40693712399510196,\n          1.0,\n          0.49126623470000563\n        ],\n        \"semantic_type\": \"\",\n        \"description\": \"\"\n      }\n    },\n    {\n      \"column\": \"Product_Category\",\n      \"properties\": {\n        \"dtype\": \"number\",\n        \"std\": 26561.0510199789,\n        \"min\": 1.0,\n        \"max\": 75132.0,\n        \"num_unique_values\": 7,\n        \"samples\": [\n          75132.0,\n          5.302228078581696,\n          8.0\n        ],\n        \"semantic_type\": \"\",\n        \"description\": \"\"\n      }\n    },\n    {\n      \"column\": \"Purchase\",\n      \"properties\": {\n        \"dtype\": \"number\",\n        \"std\": 24324.57679685198,\n        \"min\": 185.0,\n        \"max\": 75132.0,\n        \"num_unique_values\": 8,\n        \"samples\": [\n          9298.80761859128,\n          8051.0,\n          75132.0\n        ],\n        \"semantic_type\": \"\",\n        \"description\": \"\"\n      }\n    }\n  ]\n}"
            }
          },
          "metadata": {},
          "execution_count": 9
        }
      ]
    },
    {
      "cell_type": "markdown",
      "source": [
        "\n",
        "2. Non-Graphical Analysis: Value counts and unique attributes"
      ],
      "metadata": {
        "id": "O99yVLA3fNCr"
      }
    },
    {
      "cell_type": "code",
      "source": [
        "for column in customers.columns:\n",
        "    print(\"\\nFeature:\", column)\n",
        "    print(\"Number of unique values:\", customers[column].nunique())\n",
        "    print(\"Unique values:\")\n",
        "    print(customers[column].unique())\n",
        "    print(\"Value counts:\")\n",
        "    print(customers[column].value_counts())"
      ],
      "metadata": {
        "colab": {
          "base_uri": "https://localhost:8080/"
        },
        "id": "8c4FZMQMfjIk",
        "outputId": "e0254853-2770-4593-d055-1b4d1dbf8037"
      },
      "execution_count": null,
      "outputs": [
        {
          "output_type": "stream",
          "name": "stdout",
          "text": [
            "\n",
            "Feature: User_ID\n",
            "Number of unique values: 5692\n",
            "Unique values:\n",
            "[1000001 1000002 1000003 ... 1005496 1005510 1005542]\n",
            "Value counts:\n",
            "User_ID\n",
            "1004277    142\n",
            "1000889    137\n",
            "1001680    135\n",
            "1001941    133\n",
            "1001181    133\n",
            "          ... \n",
            "1000141      1\n",
            "1000098      1\n",
            "1000458      1\n",
            "1005360      1\n",
            "1004990      1\n",
            "Name: count, Length: 5692, dtype: int64\n",
            "\n",
            "Feature: Product_ID\n",
            "Number of unique values: 3229\n",
            "Unique values:\n",
            "['P00069042' 'P00248942' 'P00087842' ... 'P00036642' 'P00280942' 'P002163']\n",
            "Value counts:\n",
            "Product_ID\n",
            "P00112142    237\n",
            "P00265242    237\n",
            "P00025442    234\n",
            "P00110742    220\n",
            "P00117442    204\n",
            "            ... \n",
            "P00353442      1\n",
            "P00065742      1\n",
            "P00135042      1\n",
            "P00134442      1\n",
            "P002163        1\n",
            "Name: count, Length: 3229, dtype: int64\n",
            "\n",
            "Feature: Gender\n",
            "Number of unique values: 2\n",
            "Unique values:\n",
            "['F' 'M' nan]\n",
            "Value counts:\n",
            "Gender\n",
            "M    56979\n",
            "F    18153\n",
            "Name: count, dtype: int64\n",
            "\n",
            "Feature: Age\n",
            "Number of unique values: 7\n",
            "Unique values:\n",
            "['0-17' '55+' '26-35' '46-50' '51-55' '36-45' '18-25' nan]\n",
            "Value counts:\n",
            "Age\n",
            "26-35    29694\n",
            "36-45    15048\n",
            "18-25    14016\n",
            "46-50     6102\n",
            "51-55     5301\n",
            "55+       2952\n",
            "0-17      2019\n",
            "Name: count, dtype: int64\n",
            "\n",
            "Feature: Occupation\n",
            "Number of unique values: 21\n",
            "Unique values:\n",
            "[10. 16. 15.  7. 20.  9.  1. 12. 17.  0.  3.  4. 11.  8. 19.  2. 18.  5.\n",
            " 14. 13.  6. nan]\n",
            "Value counts:\n",
            "Occupation\n",
            "4.0     10087\n",
            "0.0      9518\n",
            "7.0      7979\n",
            "1.0      6136\n",
            "17.0     5518\n",
            "20.0     4480\n",
            "12.0     4248\n",
            "14.0     3837\n",
            "2.0      3635\n",
            "16.0     3463\n",
            "6.0      2810\n",
            "3.0      2498\n",
            "10.0     1741\n",
            "15.0     1649\n",
            "5.0      1646\n",
            "11.0     1571\n",
            "19.0     1200\n",
            "13.0     1094\n",
            "18.0      958\n",
            "9.0       854\n",
            "8.0       210\n",
            "Name: count, dtype: int64\n",
            "\n",
            "Feature: City_Category\n",
            "Number of unique values: 3\n",
            "Unique values:\n",
            "['A' 'C' 'B' nan]\n",
            "Value counts:\n",
            "City_Category\n",
            "B    31926\n",
            "C    23252\n",
            "A    19954\n",
            "Name: count, dtype: int64\n",
            "\n",
            "Feature: Stay_In_Current_City_Years\n",
            "Number of unique values: 5\n",
            "Unique values:\n",
            "['2' '4+' '3' '1' '0' nan]\n",
            "Value counts:\n",
            "Stay_In_Current_City_Years\n",
            "1     26365\n",
            "2     13871\n",
            "3     13059\n",
            "4+    11542\n",
            "0     10295\n",
            "Name: count, dtype: int64\n",
            "\n",
            "Feature: Marital_Status\n",
            "Number of unique values: 2\n",
            "Unique values:\n",
            "[ 0.  1. nan]\n",
            "Value counts:\n",
            "Marital_Status\n",
            "0.0    44558\n",
            "1.0    30574\n",
            "Name: count, dtype: int64\n",
            "\n",
            "Feature: Product_Category\n",
            "Number of unique values: 18\n",
            "Unique values:\n",
            "[ 3.  1. 12.  8.  5.  4.  2.  6. 14. 11. 13. 15.  7. 16. 18. 10. 17.  9.\n",
            " nan]\n",
            "Value counts:\n",
            "Product_Category\n",
            "5.0     20961\n",
            "1.0     19143\n",
            "8.0     15847\n",
            "11.0     3412\n",
            "2.0      3293\n",
            "6.0      2755\n",
            "3.0      2738\n",
            "4.0      1571\n",
            "16.0     1288\n",
            "15.0      837\n",
            "13.0      742\n",
            "10.0      693\n",
            "12.0      531\n",
            "7.0       531\n",
            "18.0      423\n",
            "14.0      216\n",
            "17.0       84\n",
            "9.0        67\n",
            "Name: count, dtype: int64\n",
            "\n",
            "Feature: Purchase\n",
            "Number of unique values: 13038\n",
            "Unique values:\n",
            "[ 8370. 15200.  1422. ... 14100.  7406.    nan]\n",
            "Value counts:\n",
            "Purchase\n",
            "7075.0     38\n",
            "7093.0     35\n",
            "8021.0     35\n",
            "7089.0     34\n",
            "7989.0     33\n",
            "           ..\n",
            "4834.0      1\n",
            "13630.0     1\n",
            "372.0       1\n",
            "5732.0      1\n",
            "7406.0      1\n",
            "Name: count, Length: 13038, dtype: int64\n"
          ]
        }
      ]
    },
    {
      "cell_type": "markdown",
      "source": [
        "# 2. Detect Outliers"
      ],
      "metadata": {
        "id": "PCjJqApTZmg1"
      }
    },
    {
      "cell_type": "code",
      "source": [
        "# Plot boxplots for continuous variables to identify outliers\n",
        "continuous_vars = ['Purchase']\n",
        "for var in continuous_vars:\n",
        "    plt.figure(figsize=(8, 6))\n",
        "    customers.boxplot(column=[var])\n",
        "    plt.title(var)\n",
        "    plt.show()\n",
        "\n",
        "# Identify outliers\n",
        "Q1 = customers[continuous_vars].quantile(0.25)\n",
        "Q3 = customers[continuous_vars].quantile(0.75)\n",
        "IQR = Q3 - Q1\n",
        "lower_bound = Q1 - 1.5 * IQR\n",
        "upper_bound = Q3 + 1.5 * IQR\n",
        "\n",
        "outliers = ((customers[continuous_vars] < lower_bound) | (customers[continuous_vars] > upper_bound)).any(axis=1)\n",
        "\n",
        "# Remove outliers or clip data between 5th and 95th percentiles\n",
        "clipped_df = customers.copy()\n",
        "for var in continuous_vars:\n",
        "    clipped_df[var] = np.clip(customers[var], customers[var].quantile(0.05), customers[var].quantile(0.95))\n",
        "\n",
        "# Display the clipped dataframe\n",
        "# print(clipped_df.head())\n"
      ],
      "metadata": {
        "id": "yp5Q3anlZqhV",
        "colab": {
          "base_uri": "https://localhost:8080/",
          "height": 545
        },
        "outputId": "eed90c76-fdb9-447a-e87c-37892f0d1ada"
      },
      "execution_count": null,
      "outputs": [
        {
          "output_type": "display_data",
          "data": {
            "text/plain": [
              "<Figure size 800x600 with 1 Axes>"
            ],
            "image/png": "[encoded data removed]"
          },
          "metadata": {}
        }
      ]
    },
    {
      "cell_type": "markdown",
      "source": [
        "3. Do some data exploration steps like:\n",
        "Tracking the amount spent per transaction of all the 50 million female customers, and all the 50 million male customers, calculate the average, and conclude the results.\n",
        "Inference after computing the average female and male expenses.\n",
        "Use the sample average to find out an interval within which the population average will lie. Using the sample of female customers you will calculate the interval within which the average spending of 50 million male and female customers may lie."
      ],
      "metadata": {
        "id": "-MZboerxX2jw"
      }
    },
    {
      "cell_type": "code",
      "source": [
        "# Filtering data for male and female customers\n",
        "male_customers = customers[customers['Gender'] == 'M']\n",
        "female_customers = customers[customers['Gender'] == 'F']\n",
        "\n",
        "# Calculate average spending for male and female customers\n",
        "avg_male_spending = male_customers['Purchase'].mean()\n",
        "avg_female_spending = female_customers['Purchase'].mean()\n",
        "print(\"Average spending for male customers: {:.2f}\".format(avg_male_spending))\n",
        "print(\"Average spending for female customers: {:.2f}\".format(avg_female_spending))\n",
        "\n",
        "# Inference based on the computed averages\n",
        "if avg_male_spending > avg_female_spending:\n",
        "    print(\"Male customers spend more on average.\")\n",
        "elif avg_male_spending < avg_female_spending:\n",
        "    print(\"Female customers spend more on average.\")\n",
        "else:\n",
        "    print(\"Average spending is equal for both male and female customers.\")"
      ],
      "metadata": {
        "colab": {
          "base_uri": "https://localhost:8080/"
        },
        "id": "MLONZAbwZ-Tt",
        "outputId": "f80f447c-81f1-4575-e332-875a94d68e1d"
      },
      "execution_count": null,
      "outputs": [
        {
          "output_type": "stream",
          "name": "stdout",
          "text": [
            "Average spending for male customers: 9464.06\n",
            "Average spending for female customers: 8780.11\n",
            "Male customers spend more on average.\n"
          ]
        }
      ]
    },
    {
      "cell_type": "code",
      "source": [
        "# Confidence interval calculation for female customers\n",
        "sample_size_female = len(female_customers)\n",
        "sample_std_dev_female = female_customers['Purchase'].std()\n",
        "sample_mean_female = avg_female_spending\n",
        "\n",
        "# We'll assume a 95% confidence level\n",
        "confidence_level = 0.95\n",
        "z_score = 1.96  # For 95% confidence level\n",
        "\n",
        "# Margin of error\n",
        "margin_of_error = z_score * (sample_std_dev_female / (sample_size_female ** 0.5))\n",
        "\n",
        "# Confidence interval\n",
        "lower_bound_female = sample_mean_female - margin_of_error\n",
        "upper_bound_female = sample_mean_female + margin_of_error\n",
        "\n",
        "print(\"Confidence interval for female customers' average spending: ({:.2f}, {:.2f})\".format(lower_bound_female, upper_bound_female))\n",
        "\n",
        "\n",
        "# Using the sample average of female customers to find the interval for male customers\n",
        "sample_size_male = len(male_customers)\n",
        "sample_mean_male = avg_male_spending\n",
        "\n",
        "# Margin of error\n",
        "margin_of_error_male = z_score * (sample_std_dev_female / (sample_size_male ** 0.5))\n",
        "\n",
        "# Confidence interval for male customers' average spending\n",
        "lower_bound_male = sample_mean_male - margin_of_error_male\n",
        "upper_bound_male = sample_mean_male + margin_of_error_male\n",
        "\n",
        "print(\"Confidence interval for male customers' average spending: ({:.2f}, {:.2f})\".format(lower_bound_male, upper_bound_male))"
      ],
      "metadata": {
        "colab": {
          "base_uri": "https://localhost:8080/"
        },
        "id": "kSIq5LWJa9UL",
        "outputId": "b4139f87-a9db-472e-a4d6-0b1cf1b66afd"
      },
      "execution_count": null,
      "outputs": [
        {
          "output_type": "stream",
          "name": "stdout",
          "text": [
            "Confidence interval for female customers' average spending: (8712.06, 8848.17)\n",
            "Confidence interval for male customers' average spending: (9425.65, 9502.47)\n"
          ]
        }
      ]
    },
    {
      "cell_type": "markdown",
      "source": [
        "# 3. Data Exploration"
      ],
      "metadata": {
        "id": "wd-zt_fnUR-l"
      }
    },
    {
      "cell_type": "markdown",
      "source": [
        "a. What products are different age groups buying?\n",
        "Hint: You can use histplot to find the relationship between products and age\n",
        "groups"
      ],
      "metadata": {
        "id": "EEVPFi4rUWyd"
      }
    },
    {
      "cell_type": "code",
      "source": [
        "# Visualize the relationship between products and age groups\n",
        "plt.figure(figsize=(12, 6))\n",
        "sns.histplot(data=customers, x='Product_ID', hue='Age', multiple='stack', binwidth=1, binrange=(0, 200))\n",
        "plt.title('Products purchased by different age groups')\n",
        "plt.xlabel('Product ID')\n",
        "plt.ylabel('Frequency')\n",
        "plt.xticks(rotation=90, ha='right')  # Rotate x-axis labels for better readability\n",
        "plt.tight_layout()\n",
        "plt.show()"
      ],
      "metadata": {
        "id": "zE6Kizh6dJvu",
        "colab": {
          "base_uri": "https://localhost:8080/",
          "height": 607
        },
        "outputId": "4b1d7a88-9e34-4e77-d12a-52146aa72dbe"
      },
      "execution_count": null,
      "outputs": [
        {
          "output_type": "display_data",
          "data": {
            "text/plain": [
              "<Figure size 1200x600 with 1 Axes>"
            ],
            "image/png": "[encoded data removed]"
          },
          "metadata": {}
        }
      ]
    },
    {
      "cell_type": "markdown",
      "source": [
        "b. Is there a relationship between age, marital status, and the amount spent?\n",
        "Hint: You can do multivariate analysis to find the relationship between age,\n",
        "marital status, and the amount spent"
      ],
      "metadata": {
        "id": "j1k1CPaMUixl"
      }
    },
    {
      "cell_type": "code",
      "source": [
        "# Visualize the relationship between age, marital status, and amount spent\n",
        "sns.scatterplot(data=customers, x='Age', y='Purchase', hue='Marital_Status')\n",
        "plt.title('Relationship between age, marital status, and amount spent')\n",
        "plt.show()"
      ],
      "metadata": {
        "colab": {
          "base_uri": "https://localhost:8080/",
          "height": 472
        },
        "id": "5gitqsi4Uj7E",
        "outputId": "6f6140cb-fc13-428b-c898-239a70f8eb06"
      },
      "execution_count": null,
      "outputs": [
        {
          "output_type": "display_data",
          "data": {
            "text/plain": [
              "<Figure size 640x480 with 1 Axes>"
            ],
            "image/png": "[encoded data removed]"
          },
          "metadata": {}
        }
      ]
    },
    {
      "cell_type": "markdown",
      "source": [
        "c. Are there preferred product categories for different genders?\n",
        "Hint: You can apply different hist plots for different genders"
      ],
      "metadata": {
        "id": "7VJzP-GZU7LT"
      }
    },
    {
      "cell_type": "code",
      "source": [
        "sns.histplot(data=customers, x='Product_Category', hue='Gender', multiple='stack')\n",
        "plt.title('Preferred product categories for different genders')\n",
        "plt.show()"
      ],
      "metadata": {
        "colab": {
          "base_uri": "https://localhost:8080/",
          "height": 472
        },
        "id": "L34or--mVDvP",
        "outputId": "3d63c150-e8e0-40e1-a89e-12e7ae03e808"
      },
      "execution_count": null,
      "outputs": [
        {
          "output_type": "display_data",
          "data": {
            "text/plain": [
              "<Figure size 640x480 with 1 Axes>"
            ],
            "image/png": "[encoded data removed]"
          },
          "metadata": {}
        }
      ]
    },
    {
      "cell_type": "markdown",
      "source": [
        "4. Use the Central limit theorem to compute the interval. Change the sample size to observe the distribution of the mean of the expenses by female and male customers.\n",
        "The interval that you calculated is called Confidence Interval. The width of the interval is mostly decided by the business: Typically 90%, 95%, or 99%. Play around with the width parameter and report the observations"
      ],
      "metadata": {
        "id": "XmRhgIHTYULX"
      }
    },
    {
      "cell_type": "code",
      "source": [
        "# Extract purchase amounts for male and female customers\n",
        "male_purchases = customers[customers['Gender'] == 'M']['Purchase']\n",
        "female_purchases = customers[customers['Gender'] == 'F']['Purchase']\n",
        "\n",
        "# Function to calculate confidence interval\n",
        "def calculate_ci(data, confidence=0.95):\n",
        "    n = len(data)\n",
        "    mean = np.mean(data)\n",
        "    std_err = np.std(data, ddof=1) / np.sqrt(n)\n",
        "    margin_of_error = std_err * stats.t.ppf((1 + confidence) / 2, n - 1)\n",
        "    return mean, margin_of_error\n",
        "\n",
        "# Define different confidence levels\n",
        "confidence_levels = [0.90, 0.95, 0.99]\n",
        "\n",
        "# Vary sample size and compute confidence intervals for male and female customers\n",
        "sample_sizes = [50, 100, 200, 500]\n",
        "\n",
        "for size in sample_sizes:\n",
        "    print(f\"Sample Size: {size}\")\n",
        "    for level in confidence_levels:\n",
        "        male_mean, male_margin = calculate_ci(male_purchases.sample(size), confidence=level)\n",
        "        female_mean, female_margin = calculate_ci(female_purchases.sample(size), confidence=level)\n",
        "        print(f\"Confidence Level: {level}, Male CI: ({male_mean - male_margin}, {male_mean + male_margin}), Female CI: ({female_mean - female_margin}, {female_mean + female_margin})\")\n",
        "    print()\n"
      ],
      "metadata": {
        "colab": {
          "base_uri": "https://localhost:8080/"
        },
        "id": "qgsHx3VUYJFT",
        "outputId": "9a967488-93a4-4666-f57d-bdec79d83426"
      },
      "execution_count": null,
      "outputs": [
        {
          "output_type": "stream",
          "name": "stdout",
          "text": [
            "Sample Size: 50\n",
            "Confidence Level: 0.9, Male CI: (9458.492143640351, 12059.787856359648), Female CI: (7192.530081710742, 9206.18991828926)\n",
            "Confidence Level: 0.95, Male CI: (8088.336874401593, 10878.303125598406), Female CI: (6902.823591973203, 9516.856408026797)\n",
            "Confidence Level: 0.99, Male CI: (8996.427425002626, 12930.852574997372), Female CI: (7024.2547255394065, 10656.345274460593)\n",
            "\n",
            "Sample Size: 100\n",
            "Confidence Level: 0.9, Male CI: (9159.70415616744, 10929.11584383256), Female CI: (7988.65560784446, 9552.304392155538)\n",
            "Confidence Level: 0.95, Male CI: (8025.714523459736, 10047.965476540265), Female CI: (7480.466114312307, 9361.753885687694)\n",
            "Confidence Level: 0.99, Male CI: (8262.94984811277, 10912.41015188723), Female CI: (8148.022729205242, 10972.137270794758)\n",
            "\n",
            "Sample Size: 200\n",
            "Confidence Level: 0.9, Male CI: (9034.013852540733, 10222.206147459268), Female CI: (8701.057001365874, 9791.992998634125)\n",
            "Confidence Level: 0.95, Male CI: (8515.469389646047, 9914.000610353954), Female CI: (8149.741485419392, 9395.31851458061)\n",
            "Confidence Level: 0.99, Male CI: (8923.502692711703, 10807.367307288296), Female CI: (7919.718280088147, 9794.741719911852)\n",
            "\n",
            "Sample Size: 500\n",
            "Confidence Level: 0.9, Male CI: (9014.322006657143, 9760.629993342858), Female CI: (8432.974133685837, 9110.385866314164)\n",
            "Confidence Level: 0.95, Male CI: (8872.1746531939, 9749.5613468061), Female CI: (8323.26779394509, 9142.40820605491)\n",
            "Confidence Level: 0.99, Male CI: (9392.667688259839, 10574.54031174016), Female CI: (8178.209020911669, 9183.110979088331)\n",
            "\n"
          ]
        }
      ]
    },
    {
      "cell_type": "markdown",
      "source": [],
      "metadata": {
        "id": "uJq-RpVMnSQL"
      }
    },
    {
      "cell_type": "markdown",
      "source": [
        "4. How does gender affect the amount spent?\n",
        "Hint: Use the central limit theorem and bootstrapping to compute the 95% confidence\n",
        "intervals for the average amount spent per gender. First, compute the confidence\n",
        "interval for whatever data is available, and then repeat the same with smaller sample\n",
        "sizes - 300, 3000, and 30000.\n",
        "a. From the above calculated CLT answer the following questions.\n",
        "i. Is the confidence interval computed using the entire dataset wider for\n",
        "one of the genders? Why is this the case?\n",
        "ii. How is the width of the confidence interval affected by the sample size?\n",
        "iii. Do the confidence intervals for different sample sizes overlap?\n",
        "iv. How does the sample size affect the shape of the distributions of the\n",
        "means?"
      ],
      "metadata": {
        "id": "u4PdhdoEnYaq"
      }
    },
    {
      "cell_type": "code",
      "source": [
        "# Filter the data by gender\n",
        "male_data = customers[customers['Gender'] == 'M']['Purchase']\n",
        "female_data = customers[customers['Gender'] == 'F']['Purchase']\n",
        "\n",
        "# Function to compute bootstrap confidence interval\n",
        "def bootstrap_confidence_interval(data, sample_size, num_samples=1000, alpha=0.05):\n",
        "    sample_means = []\n",
        "    for _ in range(num_samples):\n",
        "        sample = np.random.choice(data, size=sample_size, replace=True)\n",
        "        sample_mean = np.mean(sample)\n",
        "        sample_means.append(sample_mean)\n",
        "\n",
        "    # Compute confidence interval\n",
        "    lower_percentile = (alpha / 2) * 100\n",
        "    upper_percentile = 100 - lower_percentile\n",
        "    lower_bound = np.percentile(sample_means, lower_percentile)\n",
        "    upper_bound = np.percentile(sample_means, upper_percentile)\n",
        "\n",
        "    return lower_bound, upper_bound\n",
        "\n",
        "# Compute confidence intervals for different sample sizes\n",
        "sample_sizes = [len(male_data), 300, 3000, 30000]\n",
        "\n",
        "# Calculate confidence intervals for male and female data\n",
        "male_intervals = {}\n",
        "female_intervals = {}\n",
        "\n",
        "for sample_size in sample_sizes:\n",
        "    male_lower, male_upper = bootstrap_confidence_interval(male_data, sample_size)\n",
        "    female_lower, female_upper = bootstrap_confidence_interval(female_data, sample_size)\n",
        "\n",
        "    male_intervals[sample_size] = (male_lower, male_upper)\n",
        "    female_intervals[sample_size] = (female_lower, female_upper)\n",
        "\n",
        "# Analysis\n",
        "print(\"Confidence Intervals for Male Purchases:\")\n",
        "for sample_size, interval in male_intervals.items():\n",
        "    print(f\"Sample Size: {sample_size}, CI: {interval}\")\n",
        "\n",
        "print(\"\\nConfidence Intervals for Female Purchases:\")\n",
        "for sample_size, interval in female_intervals.items():\n",
        "    print(f\"Sample Size: {sample_size}, CI: {interval}\")\n"
      ],
      "metadata": {
        "colab": {
          "base_uri": "https://localhost:8080/"
        },
        "id": "QmvUxUpzmfIA",
        "outputId": "a55df234-08b4-4bc0-a7f9-5f606f914639"
      },
      "execution_count": null,
      "outputs": [
        {
          "output_type": "stream",
          "name": "stdout",
          "text": [
            "Confidence Intervals for Male Purchases:\n",
            "Sample Size: 56979, CI: (9422.422243282614, 9507.072791730287)\n",
            "Sample Size: 300, CI: (8911.028083333333, 10008.411083333332)\n",
            "Sample Size: 3000, CI: (9280.302416666666, 9650.177158333332)\n",
            "Sample Size: 30000, CI: (9403.354705833333, 9522.632175)\n",
            "\n",
            "Confidence Intervals for Female Purchases:\n",
            "Sample Size: 56979, CI: (8742.957764702784, 8815.98456273364)\n",
            "Sample Size: 300, CI: (8241.337, 9339.668)\n",
            "Sample Size: 3000, CI: (8622.4924, 8936.23795)\n",
            "Sample Size: 30000, CI: (8728.077050833333, 8831.520374166666)\n"
          ]
        }
      ]
    },
    {
      "cell_type": "markdown",
      "source": [
        ". From the above calculated CLT:\n",
        "\n",
        "i. The confidence intervals computed using the entire dataset are wider for male purchases compared to female purchases. This wider interval for males suggests that there might be more variability in the purchase amounts among male customers compared to female customers.\n",
        "\n",
        "ii. The width of the confidence interval tends to decrease as the sample size increases. This is because larger sample sizes provide more precise estimates of the population parameter, resulting in a narrower range of potential values around the sample mean.\n",
        "\n",
        "iii. Yes, the confidence intervals for different sample sizes overlap. For both male and female purchases, the confidence intervals overlap across all sample sizes. This overlap indicates that there is no significant difference between male and female purchase amounts, considering the variability within the data.\n",
        "\n",
        "iv. As the sample size increases, the distribution of the means approaches a normal distribution, as predicted by the Central Limit Theorem. This means that the means from larger samples will have a more symmetrical and bell-shaped distribution, centered around the population mean. Additionally, with larger sample sizes, the variance of the sample means decreases, resulting in narrower distributions.\n",
        "\n",
        "\n",
        "\n",
        "\n",
        "\n"
      ],
      "metadata": {
        "id": "9pFJHrWJn1nU"
      }
    },
    {
      "cell_type": "markdown",
      "source": [
        "5. How does Marital_Status affect the amount spent?\n",
        "Hint: Use the central limit theorem and bootstrapping to compute the 95% confidence\n",
        "intervals for the average amount spent per Marital_Status. First, compute the\n",
        "confidence interval for whatever data is available, and then repeat the same with\n",
        "smaller sample sizes - 300, 3000, and 30000.\n",
        "a. From the above calculated CLT answer the following questions.\n",
        "i. Is the confidence interval computed using the entire dataset wider for\n",
        "one of the genders? Why is this the case?\n",
        "ii. How is the width of the confidence interval affected by the sample size?\n",
        "iii. Do the confidence intervals for different sample sizes overlap?\n",
        "iv. How does the sample size affect the shape of the distributions of the\n",
        "means?"
      ],
      "metadata": {
        "id": "f6miw8Onn3ws"
      }
    },
    {
      "cell_type": "code",
      "source": [
        "# Filter out NaN values in 'Marital_Status' and 'Purchase' columns\n",
        "df1 = customers.dropna(subset=['Marital_Status', 'Purchase'])\n",
        "\n",
        "# Define a function for bootstrapping\n",
        "def bootstrap(data, n_bootstraps=1000):\n",
        "    means = []\n",
        "    for _ in range(n_bootstraps):\n",
        "        sample = np.random.choice(data, size=len(data), replace=True)\n",
        "        means.append(np.mean(sample))\n",
        "    return np.array(means)\n",
        "\n",
        "# Compute confidence intervals for entire dataset\n",
        "marital_status_purchase = df1.groupby('Marital_Status')['Purchase'].apply(list)\n",
        "confidence_intervals = marital_status_purchase.apply(lambda x: stats.t.interval(0.95, len(x)-1, loc=np.mean(x), scale=stats.sem(x)))\n",
        "\n",
        "# Display confidence intervals\n",
        "print(\"Confidence Intervals for entire dataset:\")\n",
        "print(confidence_intervals)\n",
        "\n",
        "# Repeat the process for smaller sample sizes\n",
        "sample_sizes = [300, 3000, 30000]\n",
        "for size in sample_sizes:\n",
        "    print(\"\\nSample Size:\", size)\n",
        "    for status, purchases in marital_status_purchase.items():\n",
        "        sample = np.random.choice(purchases, size=size, replace=True)\n",
        "        ci = stats.t.interval(0.95, len(sample)-1, loc=np.mean(sample), scale=stats.sem(sample))\n",
        "        print(f\"Marital Status {status}: {ci}\")\n"
      ],
      "metadata": {
        "colab": {
          "base_uri": "https://localhost:8080/"
        },
        "id": "JoULgBP9oUPt",
        "outputId": "16f9e8c9-9da9-43b8-e486-4d12f7416372"
      },
      "execution_count": null,
      "outputs": [
        {
          "output_type": "stream",
          "name": "stdout",
          "text": [
            "Confidence Intervals for entire dataset:\n",
            "Marital_Status\n",
            "0.0    (9244.308144370261, 9336.89639802392)\n",
            "1.0     (9255.44643191171, 9366.08545792933)\n",
            "Name: Purchase, dtype: object\n",
            "\n",
            "Sample Size: 300\n",
            "Marital Status 0.0: (8969.915836795235, 10147.410829871433)\n",
            "Marital Status 1.0: (8511.874458084878, 9622.892208581789)\n",
            "\n",
            "Sample Size: 3000\n",
            "Marital Status 0.0: (9089.632280839967, 9449.990385826699)\n",
            "Marital Status 1.0: (9182.12624291911, 9540.294423747555)\n",
            "\n",
            "Sample Size: 30000\n",
            "Marital Status 0.0: (9248.959617420982, 9361.881715912352)\n",
            "Marital Status 1.0: (9295.639271865588, 9407.691461467744)\n"
          ]
        }
      ]
    },
    {
      "cell_type": "markdown",
      "source": [
        "i. Is the confidence interval computed using the entire dataset wider for one of the genders? Why is this the case?\n",
        "\n",
        "No, the confidence intervals computed using the entire dataset for both marital statuses (0.0 and 1.0) are quite similar in width. Therefore, there doesn't seem to be a significant difference in the width of the confidence intervals between different marital statuses.\n",
        "\n",
        "ii. How is the width of the confidence interval affected by the sample size?\n",
        "\n",
        "As the sample size increases, the width of the confidence interval tends to decrease. This is because larger sample sizes provide more precise estimates of the population parameter, resulting in narrower intervals.\n",
        "\n",
        "iii. Do the confidence intervals for different sample sizes overlap?\n",
        "\n",
        "Yes, the confidence intervals for different sample sizes overlap for both marital statuses. This is expected because the samples are drawn from the same population, and as such, the estimates should overlap to some degree.\n",
        "\n",
        "iv. How does the sample size affect the shape of the distributions of the means?\n",
        "\n",
        "As the sample size increases, the shape of the distribution of means becomes more symmetrical and approaches a normal distribution. This is in accordance with the Central Limit Theorem, which states that the sampling distribution of the sample mean becomes increasingly normal as the sample size increases"
      ],
      "metadata": {
        "id": "_0Nrk2fKpSHr"
      }
    },
    {
      "cell_type": "markdown",
      "source": [
        "6. How does Age affect the amount spent?\n",
        "Hint: Use the central limit theorem and bootstrapping to compute the 95% confidence\n",
        "intervals for the average amount spent per Marital_Status. First, compute the\n",
        "confidence interval for whatever data is available, and then repeat the same with\n",
        "smaller sample sizes - 300, 3000, and 30000.\n",
        "a. From the above calculated CLT answer the following questions.\n",
        "i. Is the confidence interval computed using the entire dataset wider for\n",
        "one of the genders? Why is this the case?\n",
        "ii. How is the width of the confidence interval affected by the sample size?\n",
        "iii. Do the confidence intervals for different sample sizes overlap?\n",
        "iv. How does the sample size affect the shape of the distributions of the\n",
        "means?"
      ],
      "metadata": {
        "id": "v6QvVCvrpTHO"
      }
    },
    {
      "cell_type": "code",
      "source": [
        "# Function to calculate bootstrap confidence interval\n",
        "def bootstrap_ci(data, n_bootstrap, alpha=0.05):\n",
        "    means = []\n",
        "    for _ in range(n_bootstrap):\n",
        "        sample = np.random.choice(data, size=len(data), replace=True)\n",
        "        means.append(np.mean(sample))\n",
        "\n",
        "    lower_percentile = 100 * (alpha / 2)\n",
        "    upper_percentile = 100 * (1 - alpha / 2)\n",
        "    lower_bound = np.percentile(means, lower_percentile)\n",
        "    upper_bound = np.percentile(means, upper_percentile)\n",
        "    return lower_bound, upper_bound\n",
        "\n",
        "# Filter data for each marital status\n",
        "marital_status_0 = customers[customers['Marital_Status'] == 0]['Purchase']\n",
        "marital_status_1 = customers[customers['Marital_Status'] == 1]['Purchase']\n",
        "\n",
        "# Calculate confidence intervals for entire dataset\n",
        "ci_marital_status_0 = bootstrap_ci(marital_status_0, n_bootstrap=1000)\n",
        "ci_marital_status_1 = bootstrap_ci(marital_status_1, n_bootstrap=1000)\n",
        "\n",
        "print(\"95% Confidence Intervals for Marital_Status 0:\", ci_marital_status_0)\n",
        "print(\"95% Confidence Intervals for Marital_Status 1:\", ci_marital_status_1)\n",
        "\n",
        "# Repeat the process with smaller sample sizes\n",
        "sample_sizes = [300, 3000, 30000]\n",
        "for size in sample_sizes:\n",
        "    ci_marital_status_0_small = bootstrap_ci(marital_status_0.sample(size), n_bootstrap=1000)\n",
        "    ci_marital_status_1_small = bootstrap_ci(marital_status_1.sample(size), n_bootstrap=1000)\n",
        "    print(f\"\\nSample size: {size}\")\n",
        "    print(\"95% Confidence Intervals for Marital_Status 0:\", ci_marital_status_0_small)\n",
        "    print(\"95% Confidence Intervals for Marital_Status 1:\", ci_marital_status_1_small)\n"
      ],
      "metadata": {
        "colab": {
          "base_uri": "https://localhost:8080/"
        },
        "id": "4Wnp5_lzponn",
        "outputId": "30091269-4ae0-49ca-e3f0-51c8c76cdb70"
      },
      "execution_count": null,
      "outputs": [
        {
          "output_type": "stream",
          "name": "stdout",
          "text": [
            "95% Confidence Intervals for Marital_Status 0: (9245.59874882176, 9332.185595740384)\n",
            "95% Confidence Intervals for Marital_Status 1: (9257.27428288742, 9369.60463383921)\n",
            "\n",
            "Sample size: 300\n",
            "95% Confidence Intervals for Marital_Status 0: (8195.810416666667, 9239.379833333332)\n",
            "95% Confidence Intervals for Marital_Status 1: (8959.930750000001, 10149.262166666667)\n",
            "\n",
            "Sample size: 3000\n",
            "95% Confidence Intervals for Marital_Status 0: (9001.95325, 9327.781383333333)\n",
            "95% Confidence Intervals for Marital_Status 1: (9181.800874999999, 9550.136441666666)\n",
            "\n",
            "Sample size: 30000\n",
            "95% Confidence Intervals for Marital_Status 0: (9240.698701666668, 9356.777090833333)\n",
            "95% Confidence Intervals for Marital_Status 1: (9254.218408333334, 9361.676810833333)\n"
          ]
        }
      ]
    },
    {
      "cell_type": "markdown",
      "source": [
        "i. The confidence interval computed using the entire dataset for Marital_Status 0 is slightly narrower than for Marital_Status 1. This suggests that there may be less variability in purchase amounts for Marital_Status 0 compared to Marital_Status 1. It's not necessarily due to gender differences but rather marital status differences.\n",
        "\n",
        "ii. The width of the confidence interval is affected by the sample size inversely. As the sample size increases, the standard error decreases, leading to narrower confidence intervals. This trend can be observed in the results where the confidence intervals become narrower as the sample size increases from 300 to 30000.\n",
        "\n",
        "iii. Yes, the confidence intervals for different sample sizes do overlap. This is expected because as sample size increases, the confidence intervals become narrower, but they are still estimates and can overlap due to variability in the data.\n",
        "\n",
        "iv. As the sample size increases, the shape of the distributions of the means tends to become more normally distributed around the population mean, as predicted by the Central Limit Theorem. This means that with larger sample sizes, the distributions of the means become more symmetrical and closely resemble a normal distribution. This can be observed in the results where, as the sample size increases, the confidence intervals become more symmetric and centered around the mean."
      ],
      "metadata": {
        "id": "rwx13dxtzzZw"
      }
    },
    {
      "cell_type": "markdown",
      "source": [],
      "metadata": {
        "id": "t9xY2fSWnpZz"
      }
    },
    {
      "cell_type": "markdown",
      "source": [
        "# 7. Create a report"
      ],
      "metadata": {
        "id": "AwtjIdPh0HjY"
      }
    },
    {
      "cell_type": "markdown",
      "source": [
        "a. Report whether the confidence intervals for the average amount spent by males\n",
        "and females (computed using all the data) overlap. How can Walmart leverage\n",
        "this conclusion to make changes or improvements?\n",
        "Hint: Check whether the average spending of males and females overlap or not\n",
        "using the CLT that you calculated"
      ],
      "metadata": {
        "id": "drLenXUq0L1j"
      }
    },
    {
      "cell_type": "code",
      "source": [
        "# Calculate average purchase amount for males and females\n",
        "avg_purchase_male = customers[customers['Gender'] == 'M']['Purchase'].mean()\n",
        "avg_purchase_female = customers[customers['Gender'] == 'F']['Purchase'].mean()\n",
        "\n",
        "# Calculate standard error of the means\n",
        "std_error_male = customers[customers['Gender'] == 'M']['Purchase'].std() / np.sqrt(customers[customers['Gender'] == 'M']['Purchase'].count())\n",
        "std_error_female = customers[customers['Gender'] == 'F']['Purchase'].std() / np.sqrt(customers[customers['Gender'] == 'F']['Purchase'].count())\n",
        "\n",
        "# Compute confidence intervals (95% confidence level)\n",
        "conf_int_male = stats.norm.interval(0.95, loc=avg_purchase_male, scale=std_error_male)\n",
        "conf_int_female = stats.norm.interval(0.95, loc=avg_purchase_female, scale=std_error_female)\n",
        "\n",
        "# Check if confidence intervals overlap\n",
        "overlap = conf_int_male[0] <= conf_int_female[1] and conf_int_female[0] <= conf_int_male[1]\n",
        "\n",
        "print(\"Confidence Interval for Males:\", conf_int_male)\n",
        "print(\"Confidence Interval for Females:\", conf_int_female)\n",
        "print(\"Do Confidence Intervals Overlap?\", overlap)\n"
      ],
      "metadata": {
        "colab": {
          "base_uri": "https://localhost:8080/"
        },
        "id": "OVW_od6S0O2i",
        "outputId": "2188ee6d-7ab5-4712-ccc0-1fcb4ed2c094"
      },
      "execution_count": null,
      "outputs": [
        {
          "output_type": "stream",
          "name": "stdout",
          "text": [
            "Confidence Interval for Males: (9422.660570506347, 9505.458771707452)\n",
            "Confidence Interval for Females: (8712.057153578186, 8848.165178818665)\n",
            "Do Confidence Intervals Overlap? False\n"
          ]
        }
      ]
    },
    {
      "cell_type": "markdown",
      "source": [
        "b. Report whether the confidence intervals for the average amount spent by\n",
        "married and unmarried (computed using all the data) overlap. How can Walmart\n",
        "leverage this conclusion to make changes or improvements?\n",
        "Hint: Check whether the average spending of married and unmarried overlap or\n",
        "not using the CLT that you calculated."
      ],
      "metadata": {
        "id": "dN2TBT0P0wRx"
      }
    },
    {
      "cell_type": "code",
      "source": [
        "# Calculate average purchase amount for married and unmarried individuals\n",
        "avg_purchase_married = customers[customers['Marital_Status'] == 1]['Purchase'].mean()\n",
        "avg_purchase_unmarried = customers[customers['Marital_Status'] == 0]['Purchase'].mean()\n",
        "\n",
        "# Calculate standard error of the means\n",
        "std_error_married = customers[customers['Marital_Status'] == 1]['Purchase'].std() / np.sqrt(customers[customers['Marital_Status'] == 1]['Purchase'].count())\n",
        "std_error_unmarried = customers[customers['Marital_Status'] == 0]['Purchase'].std() / np.sqrt(customers[customers['Marital_Status'] == 0]['Purchase'].count())\n",
        "\n",
        "# Compute confidence intervals (95% confidence level)\n",
        "conf_int_married = stats.norm.interval(0.95, loc=avg_purchase_married, scale=std_error_married)\n",
        "conf_int_unmarried = stats.norm.interval(0.95, loc=avg_purchase_unmarried, scale=std_error_unmarried)\n",
        "\n",
        "# Check if confidence intervals overlap\n",
        "overlap = conf_int_married[0] <= conf_int_unmarried[1] and conf_int_unmarried[0] <= conf_int_married[1]\n",
        "\n",
        "print(\"Confidence Interval for Married Individuals:\", conf_int_married)\n",
        "print(\"Confidence Interval for Unmarried Individuals:\", conf_int_unmarried)\n",
        "print(\"Do Confidence Intervals Overlap?\", overlap)\n"
      ],
      "metadata": {
        "colab": {
          "base_uri": "https://localhost:8080/"
        },
        "id": "ugUqa9DV0gUb",
        "outputId": "397ee2fd-e9f7-4a30-f160-253d31781499"
      },
      "execution_count": null,
      "outputs": [
        {
          "output_type": "stream",
          "name": "stdout",
          "text": [
            "Confidence Interval for Married Individuals: (9255.448621972908, 9366.083267868133)\n",
            "Confidence Interval for Unmarried Individuals: (9244.309401922414, 9336.895140471768)\n",
            "Do Confidence Intervals Overlap? True\n"
          ]
        }
      ]
    },
    {
      "cell_type": "markdown",
      "source": [
        "c. Report whether the confidence intervals for the average amount spent by\n",
        "different age groups (computed using all the data) overlap. How can Walmart\n",
        "leverage this conclusion to make changes or improvements?\n",
        "Hint: Check whether the average spending of different age groups overlaps or\n",
        "not using the CLT that you calculated."
      ],
      "metadata": {
        "id": "UDnWBYyS1bOw"
      }
    },
    {
      "cell_type": "code",
      "source": [
        "# Calculate average purchase amount for each age group\n",
        "avg_purchase_by_age = customers.groupby('Age')['Purchase'].mean()\n",
        "\n",
        "# Calculate standard error of the means for each age group\n",
        "std_error_by_age = customers.groupby('Age')['Purchase'].std() / np.sqrt(customers.groupby('Age')['Purchase'].count())\n",
        "\n",
        "# Compute confidence intervals (95% confidence level) for each age group\n",
        "conf_int_by_age = [stats.norm.interval(0.95, loc=avg_purchase_by_age[i], scale=std_error_by_age[i]) for i in range(len(avg_purchase_by_age))]\n",
        "\n",
        "# Check if confidence intervals overlap for each age group\n",
        "overlap = any(conf_int_by_age[i][0] <= conf_int_by_age[j][1] and conf_int_by_age[j][0] <= conf_int_by_age[i][1]\n",
        "              for i in range(len(avg_purchase_by_age)) for j in range(i+1, len(avg_purchase_by_age)))\n",
        "\n",
        "print(\"Confidence Intervals by Age Group:\", conf_int_by_age)\n",
        "print(\"Do Confidence Intervals Overlap?\", overlap)\n"
      ],
      "metadata": {
        "colab": {
          "base_uri": "https://localhost:8080/"
        },
        "id": "oDUlUgIx1a7X",
        "outputId": "293f842b-b944-4d30-bff3-a753965cb670"
      },
      "execution_count": null,
      "outputs": [
        {
          "output_type": "stream",
          "name": "stdout",
          "text": [
            "Confidence Intervals by Age Group: [(8841.843420606332, 9291.926762652707), (9081.881167423782, 9247.357559745169), (9239.873004253055, 9352.711423577482), (9271.472022358805, 9430.024522032476), (9102.927981784269, 9345.711808448443), (9497.676642998675, 9768.662161000571), (9233.914467291106, 9583.34569531052)]\n",
            "Do Confidence Intervals Overlap? True\n"
          ]
        }
      ]
    }
  ]
}